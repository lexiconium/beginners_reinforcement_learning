{
 "cells": [
  {
   "cell_type": "code",
   "execution_count": 40,
   "metadata": {},
   "outputs": [],
   "source": [
    "import torch\n",
    "from torch import nn, optim\n",
    "from torch.utils.data import DataLoader\n",
    "from torchvision import datasets, transforms\n",
    "\n",
    "import matplotlib.pyplot as plt"
   ]
  },
  {
   "cell_type": "code",
   "execution_count": 41,
   "metadata": {},
   "outputs": [],
   "source": [
    "device = torch.device('cuda' if torch.cuda.is_available() else 'cpu')\n",
    "batch_size = 100\n",
    "lr = 1e-3\n",
    "n_epochs = 10"
   ]
  },
  {
   "cell_type": "code",
   "execution_count": 42,
   "metadata": {},
   "outputs": [],
   "source": [
    "mnist_train = datasets.MNIST(root='MNIST_data/', train=True, transform=transforms.ToTensor(), download=True)\n",
    "mnist_test = datasets.MNIST(root='MNIST_data/', train=False, transform=transforms.ToTensor(), download=True)\n",
    "dloader = DataLoader(dataset=mnist_train, batch_size=batch_size, shuffle=True, drop_last=True)"
   ]
  },
  {
   "cell_type": "code",
   "execution_count": 43,
   "metadata": {},
   "outputs": [],
   "source": [
    "class CNN(nn.Module):\n",
    "    def __init__(self):\n",
    "        super().__init__()\n",
    "        self.layer1 = nn.Sequential(\n",
    "            nn.Conv2d(in_channels=1, out_channels=32, kernel_size=3, stride=1, padding=1),\n",
    "            nn.ReLU(),\n",
    "            nn.MaxPool2d(kernel_size=2, stride=2)\n",
    "        ) # -> 32 X 14 X 14\n",
    "        self.layer2 = nn.Sequential(\n",
    "            nn.Conv2d(32, 64, kernel_size=3, stride=1, padding=1),\n",
    "            nn.ReLU(),\n",
    "            nn.MaxPool2d(kernel_size=2, stride=2)\n",
    "        ) # -> 64 X 7 X 7\n",
    "        self.fc = nn.Linear(64 * 7 * 7, 10, bias=True)\n",
    "        nn.init.xavier_uniform_(self.fc.weight)\n",
    "    \n",
    "    def forward(self, x):\n",
    "        out = self.layer1(x)\n",
    "        out = self.layer2(out)\n",
    "        out = out.view(out.size(0), -1) # out.size(0): size of a batch\n",
    "        return self.fc(out)"
   ]
  },
  {
   "cell_type": "code",
   "execution_count": 44,
   "metadata": {},
   "outputs": [
    {
     "name": "stdout",
     "output_type": "stream",
     "text": [
      "epoch: 1/10\tloss: 0.239954\n",
      "accuracy: 96.36%\n",
      "epoch: 2/10\tloss: 0.068329\n",
      "accuracy: 97.66%\n",
      "epoch: 3/10\tloss: 0.049081\n",
      "accuracy: 98.41%\n",
      "epoch: 4/10\tloss: 0.039041\n",
      "accuracy: 98.52%\n",
      "epoch: 5/10\tloss: 0.032801\n",
      "accuracy: 98.38%\n",
      "epoch: 6/10\tloss: 0.027146\n",
      "accuracy: 98.55%\n",
      "epoch: 7/10\tloss: 0.024567\n",
      "accuracy: 98.81%\n",
      "epoch: 8/10\tloss: 0.020123\n",
      "accuracy: 98.37%\n",
      "epoch: 9/10\tloss: 0.017313\n",
      "accuracy: 98.88%\n",
      "epoch: 10/10\tloss: 0.014225\n",
      "accuracy: 98.50%\n"
     ]
    },
    {
     "data": {
      "text/plain": [
       "[<matplotlib.lines.Line2D at 0x1425bc6d0>]"
      ]
     },
     "execution_count": 44,
     "metadata": {},
     "output_type": "execute_result"
    },
    {
     "data": {
      "image/png": "[encoded data removed]",
      "text/plain": [
       "<Figure size 432x288 with 1 Axes>"
      ]
     },
     "metadata": {
      "needs_background": "light"
     },
     "output_type": "display_data"
    }
   ],
   "source": [
    "model = CNN().to(device)\n",
    "loss_func = nn.CrossEntropyLoss()\n",
    "optimizer = optim.Adam(model.parameters(), lr=lr)\n",
    "\n",
    "accuracies = []\n",
    "for epoch in range(1, n_epochs + 1):\n",
    "    loss_sum = 0\n",
    "    for b_idx, batch in enumerate(dloader):\n",
    "        imgs, targets = batch\n",
    "        imgs, targets = imgs.to(device), targets.to(device)\n",
    "        loss = loss_func(model(imgs), targets)\n",
    "\n",
    "        optimizer.zero_grad()\n",
    "        \n",
    "        loss.backward()\n",
    "        optimizer.step()\n",
    "        loss_sum += loss.item()\n",
    "    \n",
    "    print(f'epoch: {epoch}/{n_epochs}\\tloss: {loss_sum / len(dloader):.6f}')\n",
    "    with torch.no_grad():\n",
    "        imgs = mnist_test.data.view(len(mnist_test), 1, 28, 28).float().to(device)\n",
    "        targets = mnist_test.targets.to(device)\n",
    "        accuracy = (torch.argmax(model(imgs), dim=1) == targets).float().mean().item()\n",
    "        print(f'accuracy: {accuracy * 100:.2f}%')\n",
    "        accuracies.append(accuracy)\n",
    "plt.title('Accuracy over epoch')\n",
    "plt.xlabel('epoch')\n",
    "plt.ylabel('accuracy')\n",
    "plt.plot(accuracies)"
   ]
  },
  {
   "cell_type": "markdown",
   "metadata": {},
   "source": [
    "[Reference](https://wikidocs.net/63565)"
   ]
  }
 ],
 "metadata": {
  "interpreter": {
   "hash": "f64ca8427f5c7b208fc8e00c8adfc599cb81e9ff0e312b9ab9d7634eae3e3087"
  },
  "kernelspec": {
   "display_name": "Python 3.9.4 64-bit ('3.9.4': pyenv)",
   "name": "python3"
  },
  "language_info": {
   "codemirror_mode": {
    "name": "ipython",
    "version": 3
   },
   "file_extension": ".py",
   "mimetype": "text/x-python",
   "name": "python",
   "nbconvert_exporter": "python",
   "pygments_lexer": "ipython3",
   "version": "3.9.4"
  },
  "orig_nbformat": 4
 },
 "nbformat": 4,
 "nbformat_minor": 2
}