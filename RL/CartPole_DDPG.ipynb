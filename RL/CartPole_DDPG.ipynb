{
 "cells": [
  {
   "cell_type": "code",
   "execution_count": 1,
   "source": [
    "import random, math\n",
    "from itertools import count\n",
    "\n",
    "import torch\n",
    "from torch import nn, optim\n",
    "import torch.nn.functional as F\n",
    "\n",
    "import gym\n",
    "\n",
    "import matplotlib.pyplot as plt\n",
    "\n",
    "from memory import ReplayMemory"
   ],
   "outputs": [],
   "metadata": {}
  },
  {
   "cell_type": "markdown",
   "source": [
    "<img src=\"ddpg.png\" width=\"1006px\" height=\"744px\"></img>"
   ],
   "metadata": {}
  },
  {
   "cell_type": "code",
   "execution_count": 90,
   "source": [
    "class Actor(nn.Module):\n",
    "    pass\n",
    "\n",
    "class Critic(nn.Module):\n",
    "    pass"
   ],
   "outputs": [],
   "metadata": {}
  },
  {
   "cell_type": "code",
   "execution_count": null,
   "source": [],
   "outputs": [],
   "metadata": {}
  }
 ],
 "metadata": {
  "orig_nbformat": 4,
  "language_info": {
   "name": "python",
   "version": "3.9.4",
   "mimetype": "text/x-python",
   "codemirror_mode": {
    "name": "ipython",
    "version": 3
   },
   "pygments_lexer": "ipython3",
   "nbconvert_exporter": "python",
   "file_extension": ".py"
  },
  "kernelspec": {
   "name": "python3",
   "display_name": "Python 3.9.4 64-bit ('3.9.4': pyenv)"
  },
  "interpreter": {
   "hash": "f64ca8427f5c7b208fc8e00c8adfc599cb81e9ff0e312b9ab9d7634eae3e3087"
  }
 },
 "nbformat": 4,
 "nbformat_minor": 2
}