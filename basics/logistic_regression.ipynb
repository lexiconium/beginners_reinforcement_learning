{
 "cells": [
  {
   "cell_type": "code",
   "execution_count": 6,
   "metadata": {},
   "outputs": [],
   "source": [
    "import torch\n",
    "from torch import nn, optim\n",
    "import torch.nn.functional as F"
   ]
  },
  {
   "cell_type": "code",
   "execution_count": 7,
   "metadata": {},
   "outputs": [],
   "source": [
    "X = torch.Tensor([[1, 2], [2, 3], [3, 1], [4, 3], [5, 3], [6, 2]])\n",
    "Y = torch.Tensor([[0], [0], [0], [1], [1], [1]])"
   ]
  },
  {
   "cell_type": "markdown",
   "metadata": {},
   "source": [
    "For binary classification problems, we could use a sigmoid function:\n",
    "$$ H(x) = sigmoid(wx + b) = \\frac{1}{1 + \\exp^{-(wx + b)}} $$"
   ]
  },
  {
   "cell_type": "code",
   "execution_count": 8,
   "metadata": {},
   "outputs": [
    {
     "data": {
      "image/png": "[encoded data removed]",
      "text/plain": [
       "<Figure size 432x288 with 1 Axes>"
      ]
     },
     "metadata": {
      "needs_background": "light"
     },
     "output_type": "display_data"
    }
   ],
   "source": [
    "import numpy as np\n",
    "import matplotlib.pyplot as plt\n",
    "\n",
    "sigmoid = lambda x: 1 / (1 + np.exp(-x))\n",
    "x = np.arange(start=-5, stop=5, step=0.1)\n",
    "\n",
    "plt.plot(x, sigmoid(2 * x), 'r-', label='sigmoid(2x)')\n",
    "plt.plot(x, sigmoid(x), 'g--', label='sigmoid(x)')\n",
    "plt.plot(x, sigmoid(0.5 * x), 'b-.', label='sigmoid(x/2)')\n",
    "plt.axhline(0.5, -5, 5, color='lightgray', linestyle=':', linewidth='1')\n",
    "plt.axvline(0, 0, 1, color='lightgray', linestyle=':', linewidth='1')\n",
    "\n",
    "plt.title(\"Sigmoid\")\n",
    "plt.legend()\n",
    "plt.show()"
   ]
  },
  {
   "cell_type": "code",
   "execution_count": 9,
   "metadata": {},
   "outputs": [
    {
     "name": "stdout",
     "output_type": "stream",
     "text": [
      "epoch: 0050/1000\taccuracy: 0.8333\tloss: 0.273294\n",
      "epoch: 0100/1000\taccuracy: 1.0000\tloss: 0.135644\n",
      "epoch: 0150/1000\taccuracy: 1.0000\tloss: 0.101239\n",
      "epoch: 0200/1000\taccuracy: 1.0000\tloss: 0.080964\n",
      "epoch: 0250/1000\taccuracy: 1.0000\tloss: 0.067579\n",
      "epoch: 0300/1000\taccuracy: 1.0000\tloss: 0.058062\n",
      "epoch: 0350/1000\taccuracy: 1.0000\tloss: 0.050938\n",
      "epoch: 0400/1000\taccuracy: 1.0000\tloss: 0.045398\n",
      "epoch: 0450/1000\taccuracy: 1.0000\tloss: 0.040962\n",
      "epoch: 0500/1000\taccuracy: 1.0000\tloss: 0.037327\n",
      "epoch: 0550/1000\taccuracy: 1.0000\tloss: 0.034293\n",
      "epoch: 0600/1000\taccuracy: 1.0000\tloss: 0.031720\n",
      "epoch: 0650/1000\taccuracy: 1.0000\tloss: 0.029510\n",
      "epoch: 0700/1000\taccuracy: 1.0000\tloss: 0.027592\n",
      "epoch: 0750/1000\taccuracy: 1.0000\tloss: 0.025909\n",
      "epoch: 0800/1000\taccuracy: 1.0000\tloss: 0.024422\n",
      "epoch: 0850/1000\taccuracy: 1.0000\tloss: 0.023098\n",
      "epoch: 0900/1000\taccuracy: 1.0000\tloss: 0.021911\n",
      "epoch: 0950/1000\taccuracy: 1.0000\tloss: 0.020841\n",
      "epoch: 1000/1000\taccuracy: 1.0000\tloss: 0.019871\n"
     ]
    }
   ],
   "source": [
    "W = torch.zeros((2, 1), requires_grad=True)\n",
    "b = torch.zeros(1, requires_grad=True)\n",
    "optimizer = torch.optim.SGD([W, b], lr=1)\n",
    "\n",
    "n_epochs = 1000\n",
    "for epoch in range(1, n_epochs + 1):\n",
    "    hypothesis = torch.sigmoid(X.matmul(W) + b)\n",
    "    loss = F.binary_cross_entropy(hypothesis, target=Y)\n",
    "\n",
    "    optimizer.zero_grad()\n",
    "\n",
    "    loss.backward()\n",
    "    optimizer.step()\n",
    "\n",
    "    if epoch % 50 == 0:\n",
    "        prediction = hypothesis >= torch.Tensor([.5])\n",
    "        is_correct = prediction.float() == Y\n",
    "        accuracy = is_correct.sum().item() / len(is_correct)\n",
    "        print(f'epoch: {epoch:04d}/{n_epochs}\\taccuracy: {accuracy:.4f}\\tloss: {loss.item():.6f}')"
   ]
  },
  {
   "cell_type": "markdown",
   "metadata": {},
   "source": [
    "Using $\\text{PyTorch}$ modules"
   ]
  },
  {
   "cell_type": "code",
   "execution_count": 10,
   "metadata": {},
   "outputs": [
    {
     "name": "stdout",
     "output_type": "stream",
     "text": [
      "epoch: 0050/1000\taccuracy: 0.8333\tloss: 0.240403\n",
      "epoch: 0100/1000\taccuracy: 1.0000\tloss: 0.129453\n",
      "epoch: 0150/1000\taccuracy: 1.0000\tloss: 0.097794\n",
      "epoch: 0200/1000\taccuracy: 1.0000\tloss: 0.078772\n",
      "epoch: 0250/1000\taccuracy: 1.0000\tloss: 0.066059\n",
      "epoch: 0300/1000\taccuracy: 1.0000\tloss: 0.056945\n",
      "epoch: 0350/1000\taccuracy: 1.0000\tloss: 0.050081\n",
      "epoch: 0400/1000\taccuracy: 1.0000\tloss: 0.044719\n",
      "epoch: 0450/1000\taccuracy: 1.0000\tloss: 0.040411\n",
      "epoch: 0500/1000\taccuracy: 1.0000\tloss: 0.036870\n",
      "epoch: 0550/1000\taccuracy: 1.0000\tloss: 0.033907\n",
      "epoch: 0600/1000\taccuracy: 1.0000\tloss: 0.031391\n",
      "epoch: 0650/1000\taccuracy: 1.0000\tloss: 0.029226\n",
      "epoch: 0700/1000\taccuracy: 1.0000\tloss: 0.027343\n",
      "epoch: 0750/1000\taccuracy: 1.0000\tloss: 0.025691\n",
      "epoch: 0800/1000\taccuracy: 1.0000\tloss: 0.024228\n",
      "epoch: 0850/1000\taccuracy: 1.0000\tloss: 0.022924\n",
      "epoch: 0900/1000\taccuracy: 1.0000\tloss: 0.021754\n",
      "epoch: 0950/1000\taccuracy: 1.0000\tloss: 0.020699\n",
      "epoch: 1000/1000\taccuracy: 1.0000\tloss: 0.019742\n"
     ]
    }
   ],
   "source": [
    "model = nn.Sequential(\n",
    "    nn.Linear(2, 1),\n",
    "    nn.Sigmoid()\n",
    ")\n",
    "optimizer = optim.SGD(params=model.parameters(), lr=1)\n",
    "\n",
    "n_epochs = 1000\n",
    "for epoch in range(1, n_epochs + 1):\n",
    "    loss = F.binary_cross_entropy(model(X), target=Y)\n",
    "\n",
    "    optimizer.zero_grad()\n",
    "\n",
    "    loss.backward()\n",
    "    optimizer.step()\n",
    "\n",
    "    if epoch % 50 == 0:\n",
    "        prediction = model(X) >= torch.Tensor([.5])\n",
    "        is_correct = prediction.float() == Y\n",
    "        accuracy = is_correct.sum().item() / len(is_correct)\n",
    "        print(f'epoch: {epoch:04d}/{n_epochs}\\taccuracy: {accuracy:.4f}\\tloss: {loss.item():.6f}')"
   ]
  },
  {
   "cell_type": "markdown",
   "metadata": {},
   "source": [
    "[Reference](https://wikidocs.net/58686)"
   ]
  }
 ],
 "metadata": {
  "interpreter": {
   "hash": "f64ca8427f5c7b208fc8e00c8adfc599cb81e9ff0e312b9ab9d7634eae3e3087"
  },
  "kernelspec": {
   "display_name": "Python 3.9.4 64-bit ('3.9.4': pyenv)",
   "name": "python3"
  },
  "language_info": {
   "codemirror_mode": {
    "name": "ipython",
    "version": 3
   },
   "file_extension": ".py",
   "mimetype": "text/x-python",
   "name": "python",
   "nbconvert_exporter": "python",
   "pygments_lexer": "ipython3",
   "version": "3.9.4"
  },
  "orig_nbformat": 4
 },
 "nbformat": 4,
 "nbformat_minor": 2
}