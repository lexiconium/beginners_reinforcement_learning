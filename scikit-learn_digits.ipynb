{
 "cells": [
  {
   "cell_type": "code",
   "execution_count": 1,
   "metadata": {},
   "outputs": [],
   "source": [
    "import random\n",
    "\n",
    "import torch\n",
    "from torch import nn, optim\n",
    "from torch.utils.data import DataLoader\n",
    "\n",
    "from torchvision import transforms\n",
    "\n",
    "from sklearn import datasets\n",
    "import matplotlib.pyplot as plt"
   ]
  },
  {
   "cell_type": "markdown",
   "metadata": {},
   "source": [
    "$\\text{Classifying scikit-learn digits dataset}$"
   ]
  },
  {
   "cell_type": "code",
   "execution_count": 2,
   "metadata": {},
   "outputs": [
    {
     "name": "stdout",
     "output_type": "stream",
     "text": [
      "number of samples: 1797\n",
      "size of an image: 8 X 8\n"
     ]
    },
    {
     "data": {
      "image/png": "[encoded data removed]",
      "text/plain": [
       "<Figure size 432x288 with 5 Axes>"
      ]
     },
     "metadata": {
      "needs_background": "light"
     },
     "output_type": "display_data"
    }
   ],
   "source": [
    "digits = datasets.load_digits()\n",
    "imgs_and_labels = list(zip(torch.from_numpy(digits.images).float(), digits.target))\n",
    "print(f'number of samples: {(n_samples := len(imgs_and_labels))}')\n",
    "print(f'size of an image: {len(digits.images[0])} X {len(digits.images[0][0])}')\n",
    "for i, (img, label) in enumerate(imgs_and_labels[:5], start=1):\n",
    "    plt.subplot(2, 5, i)\n",
    "    plt.title(f'label: {label}')\n",
    "    plt.axis('off')\n",
    "    plt.imshow(img, cmap=plt.cm.gray_r, interpolation='nearest')"
   ]
  },
  {
   "cell_type": "code",
   "execution_count": 3,
   "metadata": {},
   "outputs": [],
   "source": [
    "device = torch.device('cuda' if torch.cuda.is_available() else 'cpu')\n",
    "batch_size = 100\n",
    "n_epochs = 1000"
   ]
  },
  {
   "cell_type": "code",
   "execution_count": 4,
   "metadata": {},
   "outputs": [],
   "source": [
    "dloader = DataLoader(dataset=imgs_and_labels[:-500], batch_size=batch_size, shuffle=True, drop_last=True)"
   ]
  },
  {
   "cell_type": "code",
   "execution_count": 5,
   "metadata": {},
   "outputs": [
    {
     "name": "stdout",
     "output_type": "stream",
     "text": [
      "epoch: 0100/1000\tloss: 0.000138238\n",
      "epoch: 0200/1000\tloss: 0.000031768\n",
      "epoch: 0300/1000\tloss: 0.000011281\n",
      "epoch: 0400/1000\tloss: 0.000004751\n",
      "epoch: 0500/1000\tloss: 0.000002029\n",
      "epoch: 0600/1000\tloss: 0.000000986\n",
      "epoch: 0700/1000\tloss: 0.000000512\n",
      "epoch: 0800/1000\tloss: 0.000000245\n",
      "epoch: 0900/1000\tloss: 0.000000129\n",
      "epoch: 1000/1000\tloss: 0.000000061\n"
     ]
    }
   ],
   "source": [
    "model = nn.Sequential(\n",
    "    nn.Linear(64, 32),\n",
    "    nn.ReLU(),\n",
    "    nn.Linear(32, 16),\n",
    "    nn.ReLU(),\n",
    "    nn.Linear(16, 10)\n",
    ").to(device)\n",
    "loss_func = nn.CrossEntropyLoss().to(device)\n",
    "optimizer = optim.Adam(model.parameters(), lr=1e-2)\n",
    "\n",
    "for epoch in range(1, n_epochs + 1):\n",
    "    loss_sum = 0\n",
    "    n_batches = len(dloader)\n",
    "    for imgs, targets in dloader:\n",
    "        imgs = imgs.view(-1, 64).to(device)\n",
    "        targets = targets.to(device)\n",
    "        loss = loss_func(model(imgs), targets)\n",
    "\n",
    "        optimizer.zero_grad()\n",
    "\n",
    "        loss.backward()\n",
    "        optimizer.step()\n",
    "\n",
    "        loss_sum += loss\n",
    "    if epoch % 100 == 0:\n",
    "        print(f'epoch: {epoch:04d}/{n_epochs}\\tloss: {loss_sum / n_batches:.9f}')"
   ]
  },
  {
   "cell_type": "code",
   "execution_count": 6,
   "metadata": {},
   "outputs": [
    {
     "name": "stdout",
     "output_type": "stream",
     "text": [
      "accuracy: 0.921999990940094\n"
     ]
    },
    {
     "data": {
      "image/png": "[encoded data removed]",
      "text/plain": [
       "<Figure size 432x288 with 10 Axes>"
      ]
     },
     "metadata": {
      "needs_background": "light"
     },
     "output_type": "display_data"
    }
   ],
   "source": [
    "with torch.no_grad():\n",
    "    imgs = torch.from_numpy(digits.images[-500:]).view(-1, 64).float().to(device)\n",
    "    targets = torch.from_numpy(digits.target[-500:]).to(device)\n",
    "    is_correct = torch.argmax(model(imgs), dim=1) == targets\n",
    "    print(f'accuracy: {is_correct.float().mean().item()}')\n",
    "\n",
    "    for col in range(1, 11):\n",
    "        i = random.randint(n_samples - 500, n_samples - 1)\n",
    "        plt.subplot(2, 5, col)\n",
    "        plt.title(f'label: {digits.target[i]}\\nexpects: {torch.argmax(model(imgs[i - n_samples]))}')\n",
    "        plt.axis('off')\n",
    "        plt.imshow(digits.images[i], cmap=plt.cm.gray_r, interpolation='nearest')"
   ]
  },
  {
   "cell_type": "markdown",
   "metadata": {},
   "source": [
    "References:\n",
    "[[Recognizing hand-written digits](https://scikit-learn.org/stable/auto_examples/classification/plot_digits_classification.html#sphx-glr-auto-examples-classification-plot-digits-classification-py)]\n",
    "[[다층 퍼셉트론으로 손글씨 분류하기](https://wikidocs.net/61046)]"
   ]
  }
 ],
 "metadata": {
  "interpreter": {
   "hash": "f64ca8427f5c7b208fc8e00c8adfc599cb81e9ff0e312b9ab9d7634eae3e3087"
  },
  "kernelspec": {
   "display_name": "Python 3.9.4 64-bit ('3.9.4': pyenv)",
   "name": "python3"
  },
  "language_info": {
   "name": "python",
   "version": ""
  },
  "orig_nbformat": 4
 },
 "nbformat": 4,
 "nbformat_minor": 2
}