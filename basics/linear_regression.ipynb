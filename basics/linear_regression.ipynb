{
 "cells": [
  {
   "cell_type": "code",
   "execution_count": 15,
   "metadata": {},
   "outputs": [],
   "source": [
    "import torch\n",
    "from torch import nn, optim\n",
    "import torch.nn.functional as F"
   ]
  },
  {
   "cell_type": "code",
   "execution_count": 16,
   "metadata": {},
   "outputs": [],
   "source": [
    "x = torch.Tensor([[1], [2], [3]])\n",
    "y = torch.Tensor([[2], [4], [6]])"
   ]
  },
  {
   "cell_type": "markdown",
   "metadata": {},
   "source": [
    "The final goal is to acheive $w$ and $b$ that satisfy\n",
    "$$ y = wx + b $$"
   ]
  },
  {
   "cell_type": "code",
   "execution_count": 17,
   "metadata": {},
   "outputs": [
    {
     "name": "stdout",
     "output_type": "stream",
     "text": [
      "epoch: 0500/5000\tw: 1.903\tb: 0.221\tloss: 0.007058\n",
      "epoch: 1000/5000\tw: 1.971\tb: 0.066\tloss: 0.000636\n",
      "epoch: 1500/5000\tw: 1.991\tb: 0.020\tloss: 0.000057\n",
      "epoch: 2000/5000\tw: 1.997\tb: 0.006\tloss: 0.000005\n",
      "epoch: 2500/5000\tw: 1.999\tb: 0.002\tloss: 0.000000\n",
      "epoch: 3000/5000\tw: 2.000\tb: 0.001\tloss: 0.000000\n",
      "epoch: 3500/5000\tw: 2.000\tb: 0.000\tloss: 0.000000\n",
      "epoch: 4000/5000\tw: 2.000\tb: 0.000\tloss: 0.000000\n",
      "epoch: 4500/5000\tw: 2.000\tb: 0.000\tloss: 0.000000\n",
      "epoch: 5000/5000\tw: 2.000\tb: 0.000\tloss: 0.000000\n"
     ]
    }
   ],
   "source": [
    "w = torch.zeros(1, requires_grad=True)\n",
    "b = torch.zeros(1, requires_grad=True)\n",
    "optimizer = optim.SGD(params=[w, b], lr=1e-2)\n",
    "\n",
    "n_epochs = 5000\n",
    "for epoch in range(1, n_epochs + 1):\n",
    "    hypothesis = x * w + b\n",
    "    loss = torch.mean((hypothesis - y) ** 2)\n",
    "\n",
    "    optimizer.zero_grad()\n",
    "    \n",
    "    loss.backward()\n",
    "    optimizer.step()\n",
    "\n",
    "    if epoch % 500 == 0:\n",
    "        print(f'epoch: {epoch:04d}/{n_epochs}\\tw: {w.item():.3f}\\tb: {b.item():.3f}\\tloss: {loss.item():.6f}')"
   ]
  },
  {
   "cell_type": "markdown",
   "metadata": {},
   "source": [
    "Same can be done by pytorch modules"
   ]
  },
  {
   "cell_type": "code",
   "execution_count": 18,
   "metadata": {},
   "outputs": [
    {
     "name": "stdout",
     "output_type": "stream",
     "text": [
      "epoch: 0500/5000\tw: 1.964\tb: 0.082\tloss: 0.000980\n",
      "epoch: 1000/5000\tw: 1.989\tb: 0.025\tloss: 0.000088\n",
      "epoch: 1500/5000\tw: 1.997\tb: 0.007\tloss: 0.000008\n",
      "epoch: 2000/5000\tw: 1.999\tb: 0.002\tloss: 0.000001\n",
      "epoch: 2500/5000\tw: 2.000\tb: 0.001\tloss: 0.000000\n",
      "epoch: 3000/5000\tw: 2.000\tb: 0.000\tloss: 0.000000\n",
      "epoch: 3500/5000\tw: 2.000\tb: 0.000\tloss: 0.000000\n",
      "epoch: 4000/5000\tw: 2.000\tb: 0.000\tloss: 0.000000\n",
      "epoch: 4500/5000\tw: 2.000\tb: 0.000\tloss: 0.000000\n",
      "epoch: 5000/5000\tw: 2.000\tb: 0.000\tloss: 0.000000\n"
     ]
    }
   ],
   "source": [
    "model = nn.Linear(in_features=1, out_features=1)\n",
    "optimizer = optim.SGD(params=model.parameters(), lr=1e-2)\n",
    "\n",
    "n_epochs = 5000\n",
    "for epoch in range(1, n_epochs + 1):\n",
    "    loss = F.mse_loss(model(x), target=y)\n",
    "\n",
    "    optimizer.zero_grad()\n",
    "    \n",
    "    loss.backward()\n",
    "    optimizer.step()\n",
    "\n",
    "    if epoch % 500 == 0:\n",
    "        w, b = model.parameters()\n",
    "        print(f'epoch: {epoch:04d}/{n_epochs}\\tw: {w.item():.3f}\\tb: {b.item():.3f}\\tloss: {loss.item():.6f}')"
   ]
  }
 ],
 "metadata": {
  "interpreter": {
   "hash": "f64ca8427f5c7b208fc8e00c8adfc599cb81e9ff0e312b9ab9d7634eae3e3087"
  },
  "kernelspec": {
   "display_name": "Python 3.9.4 64-bit ('3.9.4': pyenv)",
   "name": "python3"
  },
  "language_info": {
   "codemirror_mode": {
    "name": "ipython",
    "version": 3
   },
   "file_extension": ".py",
   "mimetype": "text/x-python",
   "name": "python",
   "nbconvert_exporter": "python",
   "pygments_lexer": "ipython3",
   "version": "3.9.4"
  },
  "orig_nbformat": 4
 },
 "nbformat": 4,
 "nbformat_minor": 2
}