{
 "cells": [
  {
   "cell_type": "code",
   "execution_count": 34,
   "metadata": {},
   "outputs": [],
   "source": [
    "import torch\n",
    "from torch import nn, optim\n",
    "import torch.nn.functional as F"
   ]
  },
  {
   "cell_type": "code",
   "execution_count": 35,
   "metadata": {},
   "outputs": [
    {
     "name": "stdout",
     "output_type": "stream",
     "text": [
      "one hot vector of Y:\n",
      "[0, 0, 1]\n",
      "[0, 0, 1]\n",
      "[0, 0, 1]\n",
      "[0, 1, 0]\n",
      "[0, 1, 0]\n",
      "[0, 1, 0]\n",
      "[1, 0, 0]\n",
      "[1, 0, 0]\n"
     ]
    }
   ],
   "source": [
    "X = torch.Tensor([[1, 2, 1, 1],\n",
    "                  [2, 1, 3, 2],\n",
    "                  [3, 1, 3, 4],\n",
    "                  [4, 1, 5, 5],\n",
    "                  [1, 7, 5, 5],\n",
    "                  [1, 2, 5, 6],\n",
    "                  [1, 6, 6, 6],\n",
    "                  [1, 7, 7, 7]])\n",
    "_Y = torch.LongTensor([2, 2, 2, 1, 1, 1, 0, 0])\n",
    "Y = torch.zeros(8, 3, dtype=_Y.dtype).scatter_(dim=1, index=_Y.unsqueeze(dim=1), value=1)\n",
    "print('one hot vector of Y:', *Y.tolist(), sep='\\n')"
   ]
  },
  {
   "cell_type": "markdown",
   "metadata": {},
   "source": [
    "$\\text{Softmax}:$\n",
    "The softmax function, also known as softargmax or normalized exponential function, is a generalization of the logistic function to multiple dimensions. It is used in multinomial logistic regression and is often used as the last activation function of a neural network to normalize the output of a network to a probability distribution over predicted output classes, based on Luce's choice axiom.\n",
    "$$p_i = \\sigma(\\bold{z})_{i} = \\frac{e^{z_i}}{\\sum^K_{j=1}e^{z_j}} $$\n",
    "$\\text{Cross-Entropy}:$\n",
    "$$ \\text{Cost}(W) = -\\frac{1}{n}\\sum^n_{i=1}\\sum^k_{j = 1} y^{(i)}_j \\log(p^{(i)}_j) $$"
   ]
  },
  {
   "cell_type": "code",
   "execution_count": 36,
   "metadata": {},
   "outputs": [
    {
     "name": "stdout",
     "output_type": "stream",
     "text": [
      "epoch: 01000/10000\tloss: 0.385798\n",
      "epoch: 02000/10000\tloss: 0.246166\n",
      "epoch: 03000/10000\tloss: 0.192469\n",
      "epoch: 04000/10000\tloss: 0.157261\n",
      "epoch: 05000/10000\tloss: 0.132464\n",
      "epoch: 06000/10000\tloss: 0.114132\n",
      "epoch: 07000/10000\tloss: 0.100080\n",
      "epoch: 08000/10000\tloss: 0.088997\n",
      "epoch: 09000/10000\tloss: 0.080050\n",
      "epoch: 10000/10000\tloss: 0.072688\n"
     ]
    }
   ],
   "source": [
    "W = torch.zeros((4, 3), requires_grad=True)\n",
    "b = torch.zeros(1, requires_grad=True)\n",
    "optimizer = optim.SGD([W, b], lr=1e-1)\n",
    "\n",
    "n_epochs = 10000\n",
    "for epoch in range(1, n_epochs + 1):\n",
    "    hypothesis = F.softmax(X.matmul(W) + b, dim=1)\n",
    "    loss = (Y * -torch.log(hypothesis)).sum(dim=1).mean()\n",
    "\n",
    "    optimizer.zero_grad()\n",
    "\n",
    "    loss.backward()\n",
    "    optimizer.step()\n",
    "\n",
    "    if epoch % 1000 == 0:\n",
    "        print(f'epoch: {epoch:05d}/{n_epochs}\\tloss: {loss.item():.6f}')"
   ]
  },
  {
   "cell_type": "markdown",
   "metadata": {},
   "source": [
    "Using $\\text{PyTorch}$ modules"
   ]
  },
  {
   "cell_type": "code",
   "execution_count": 37,
   "metadata": {},
   "outputs": [
    {
     "name": "stdout",
     "output_type": "stream",
     "text": [
      "epoch: 01000/10000\tloss: 0.241418\n",
      "epoch: 02000/10000\tloss: 0.156788\n",
      "epoch: 03000/10000\tloss: 0.115383\n",
      "epoch: 04000/10000\tloss: 0.090977\n",
      "epoch: 05000/10000\tloss: 0.074963\n",
      "epoch: 06000/10000\tloss: 0.063676\n",
      "epoch: 07000/10000\tloss: 0.055307\n",
      "epoch: 08000/10000\tloss: 0.048861\n",
      "epoch: 09000/10000\tloss: 0.043746\n",
      "epoch: 10000/10000\tloss: 0.039591\n"
     ]
    }
   ],
   "source": [
    "model = nn.Linear(4, 3)\n",
    "optimizer = optim.SGD(model.parameters(), lr=1e-1)\n",
    "\n",
    "n_epochs = 10000\n",
    "for epoch in range(1, n_epochs + 1):\n",
    "    loss = F.cross_entropy(model(X), _Y)\n",
    "\n",
    "    optimizer.zero_grad()\n",
    "\n",
    "    loss.backward()\n",
    "    optimizer.step()\n",
    "\n",
    "    if epoch % 1000 == 0:\n",
    "        print(f'epoch: {epoch:05d}/{n_epochs}\\tloss: {loss.item():.6f}')"
   ]
  },
  {
   "cell_type": "markdown",
   "metadata": {},
   "source": [
    "References:$\\newline$\n",
    "[소프트맥스 회귀(Softmax Regression) 이해하기](https://wikidocs.net/59427)$\\newline$\n",
    "[소프트맥스 회귀 구현하기](https://wikidocs.net/60575)$\\newline$\n",
    "[Softmax function](https://en.wikipedia.org/wiki/Softmax_function)"
   ]
  },
  {
   "cell_type": "markdown",
   "metadata": {},
   "source": []
  }
 ],
 "metadata": {
  "interpreter": {
   "hash": "f64ca8427f5c7b208fc8e00c8adfc599cb81e9ff0e312b9ab9d7634eae3e3087"
  },
  "kernelspec": {
   "display_name": "Python 3.9.4 64-bit ('3.9.4': pyenv)",
   "name": "python3"
  },
  "language_info": {
   "codemirror_mode": {
    "name": "ipython",
    "version": 3
   },
   "file_extension": ".py",
   "mimetype": "text/x-python",
   "name": "python",
   "nbconvert_exporter": "python",
   "pygments_lexer": "ipython3",
   "version": "3.9.4"
  },
  "orig_nbformat": 4
 },
 "nbformat": 4,
 "nbformat_minor": 2
}