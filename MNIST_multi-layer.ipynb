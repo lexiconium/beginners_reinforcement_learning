{
 "cells": [
  {
   "cell_type": "code",
   "execution_count": null,
   "metadata": {},
   "outputs": [],
   "source": [
    "import random\n",
    "\n",
    "import torch\n",
    "from torch import nn, optim\n",
    "from torch.utils.data import DataLoader, TensorDataset\n",
    "\n",
    "from sklearn.datasets import fetch_openml\n",
    "from sklearn.model_selection import train_test_split\n",
    "\n",
    "import numpy as np\n",
    "\n",
    "import matplotlib.pyplot as plt"
   ]
  },
  {
   "cell_type": "code",
   "execution_count": null,
   "metadata": {},
   "outputs": [],
   "source": [
    "device = torch.device('cuda' if torch.cuda.is_available() else 'cpu')\n",
    "batch_size = 64"
   ]
  },
  {
   "cell_type": "code",
   "execution_count": null,
   "metadata": {},
   "outputs": [],
   "source": [
    "MNIST = fetch_openml('mnist_784', version=1, cache=True)\n",
    "_imgs = MNIST.data.to_numpy(dtype=np.int16) / 255\n",
    "_targets = MNIST.target.to_numpy(dtype=np.int8)"
   ]
  },
  {
   "cell_type": "code",
   "execution_count": null,
   "metadata": {},
   "outputs": [],
   "source": [
    "plt.title(f'label: {_targets[0]}')\n",
    "plt.imshow(_imgs[0].reshape(28, 28), cmap='Greys')"
   ]
  },
  {
   "cell_type": "code",
   "execution_count": null,
   "metadata": {},
   "outputs": [],
   "source": [
    "imgs_train, imgs_test, targets_train, targets_test = train_test_split(_imgs, _targets, test_size=0.1, random_state=0, shuffle=True)\n",
    "dset_train = TensorDataset(torch.Tensor(imgs_train), torch.LongTensor(targets_train))\n",
    "dset_test = TensorDataset(torch.Tensor(imgs_test), torch.LongTensor(targets_test))\n",
    "dloader_train = DataLoader(dset_train, batch_size=batch_size, shuffle=True)\n",
    "dloader_test = DataLoader(dset_test, batch_size=batch_size)"
   ]
  },
  {
   "cell_type": "code",
   "execution_count": null,
   "metadata": {},
   "outputs": [],
   "source": [
    "model = nn.Sequential(\n",
    "    nn.Linear(28 ** 2, 100),\n",
    "    nn.ReLU(),\n",
    "    nn.Linear(100, 100),\n",
    "    nn.ReLU(),\n",
    "    nn.Linear(100, 10)\n",
    ").to(device)\n",
    "loss_func = nn.CrossEntropyLoss().to(device)\n",
    "optimizer = optim.Adam(model.parameters(), lr=1e-2)\n",
    "\n",
    "def train(n_epochs):\n",
    "    model.train()\n",
    "    for epoch in range(1, n_epochs + 1):\n",
    "        losses = []\n",
    "        for batch_idx, batch in enumerate(dloader_train, start=1):\n",
    "            imgs, targets = batch\n",
    "            imgs, targets = imgs.to(device), targets.to(device)\n",
    "            loss = loss_func(model(imgs), targets)\n",
    "\n",
    "            optimizer.zero_grad()\n",
    "\n",
    "            loss.backward()\n",
    "            optimizer.step()\n",
    "\n",
    "            losses.append(loss.item())\n",
    "        print(f'epoch: {epoch:0{len(str(n_epochs))}d}/{n_epochs}\\tmean loss: {np.array(losses).mean():.6f}')\n",
    "\n",
    "def test():\n",
    "    n_correct = 0\n",
    "    with torch.no_grad():\n",
    "        for imgs, targets in dloader_test:\n",
    "            imgs, targets = imgs.to(device), targets.to(device)\n",
    "            prediction = torch.argmax(model(imgs), dim=1)\n",
    "            n_correct += (prediction == targets.view_as(prediction)).int().sum()\n",
    "    return (n_correct / len(dloader_test.dataset)) * 100\n",
    "\n",
    "def check():\n",
    "    model.eval()\n",
    "    with torch.no_grad():\n",
    "        for idx in range(1, 11):\n",
    "            i = random.randint(0, len(dset_test) - 1)\n",
    "            img = dset_test[i][0].to(device)\n",
    "\n",
    "            plt.subplot(2, 5, idx)\n",
    "            plt.title(f'label: {dset_test[i][1].item()}\\nexpects: {torch.argmax(model(img))}')\n",
    "            plt.axis('off')\n",
    "            plt.imshow(img.reshape(28, 28).cpu(), cmap='Greys')"
   ]
  },
  {
   "cell_type": "code",
   "execution_count": null,
   "metadata": {},
   "outputs": [],
   "source": [
    "pre_accuracy = test()\n",
    "train(10)\n",
    "print(f'accuracy: {pre_accuracy:.2f}% -> {test():.2f}%')\n",
    "check()"
   ]
  }
 ],
 "metadata": {
  "interpreter": {
   "hash": "f64ca8427f5c7b208fc8e00c8adfc599cb81e9ff0e312b9ab9d7634eae3e3087"
  },
  "kernelspec": {
   "display_name": "Python 3.9.4 64-bit ('3.9.4': pyenv)",
   "name": "python3"
  },
  "language_info": {
   "codemirror_mode": {
    "name": "ipython",
    "version": 3
   },
   "file_extension": ".py",
   "mimetype": "text/x-python",
   "name": "python",
   "nbconvert_exporter": "python",
   "pygments_lexer": "ipython3",
   "version": "3.9.4"
  },
  "orig_nbformat": 4
 },
 "nbformat": 4,
 "nbformat_minor": 2
}