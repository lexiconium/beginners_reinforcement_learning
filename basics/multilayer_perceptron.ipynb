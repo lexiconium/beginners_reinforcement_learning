{
 "cells": [
  {
   "cell_type": "code",
   "execution_count": 9,
   "metadata": {},
   "outputs": [],
   "source": [
    "import torch\n",
    "from torch import nn, optim"
   ]
  },
  {
   "cell_type": "code",
   "execution_count": 10,
   "metadata": {},
   "outputs": [],
   "source": [
    "device = torch.device('cuda' if torch.cuda.is_available() else 'cpu')\n",
    "n_epochs = 10000"
   ]
  },
  {
   "cell_type": "markdown",
   "metadata": {},
   "source": [
    "$\\text{Goal}:$ To mimic XOR operation"
   ]
  },
  {
   "cell_type": "code",
   "execution_count": 11,
   "metadata": {},
   "outputs": [],
   "source": [
    "cases = torch.Tensor([[0, 0],\n",
    "                      [0, 1],\n",
    "                      [1, 0],\n",
    "                      [1, 1]]).to(device)\n",
    "targets = torch.Tensor([[0], [1], [1], [0]]).to(device)"
   ]
  },
  {
   "cell_type": "code",
   "execution_count": 12,
   "metadata": {},
   "outputs": [
    {
     "name": "stdout",
     "output_type": "stream",
     "text": [
      "epoch: 01000/10000\tloss: 0.693128228\n",
      "epoch: 02000/10000\tloss: 0.693111122\n",
      "epoch: 03000/10000\tloss: 0.693068981\n",
      "epoch: 04000/10000\tloss: 0.692882597\n",
      "epoch: 05000/10000\tloss: 0.673191190\n",
      "epoch: 06000/10000\tloss: 0.000933178\n",
      "epoch: 07000/10000\tloss: 0.000382174\n",
      "epoch: 08000/10000\tloss: 0.000235662\n",
      "epoch: 09000/10000\tloss: 0.000169084\n",
      "epoch: 10000/10000\tloss: 0.000131318\n"
     ]
    }
   ],
   "source": [
    "model = nn.Sequential(\n",
    "    nn.Linear(2, 10, bias=True),\n",
    "    nn.Sigmoid(),\n",
    "    nn.Linear(10, 10, bias=True),\n",
    "    nn.Sigmoid(),\n",
    "    nn.Linear(10, 10, bias=True),\n",
    "    nn.Sigmoid(),\n",
    "    nn.Linear(10, 1, bias=True),\n",
    "    nn.Sigmoid()\n",
    ").to(device)\n",
    "criterion = nn.BCELoss().to(device)\n",
    "optimizer = optim.SGD(model.parameters(), lr=1)\n",
    "\n",
    "for epoch in range(1, n_epochs + 1):\n",
    "    loss = criterion(model(cases), targets)\n",
    "\n",
    "    optimizer.zero_grad()\n",
    "\n",
    "    loss.backward()\n",
    "    optimizer.step()\n",
    "\n",
    "    if epoch % 1000 == 0:\n",
    "        print(f'epoch: {epoch:05d}/{n_epochs}\\tloss: {loss.item():.9f}')"
   ]
  },
  {
   "cell_type": "code",
   "execution_count": 27,
   "metadata": {},
   "outputs": [
    {
     "name": "stdout",
     "output_type": "stream",
     "text": [
      "model output: [[7.334053952945396e-05], [0.9998589754104614], [0.9998574256896973], [0.00016820066957734525]]\n",
      "model prediction: [[0.0], [1.0], [1.0], [0.0]]\n",
      "accuracy: 1.0\n"
     ]
    }
   ],
   "source": [
    "with torch.no_grad():\n",
    "    predictions = model(cases)\n",
    "    print(f'model output: {predictions.tolist()}')\n",
    "    print(f'model prediction: {predictions.round().tolist()}')\n",
    "    accuracy = (predictions.round() == targets).float().mean()\n",
    "    print(f'accuracy: {accuracy.item()}')"
   ]
  },
  {
   "cell_type": "markdown",
   "metadata": {},
   "source": [
    "[Reference](https://wikidocs.net/61010)"
   ]
  }
 ],
 "metadata": {
  "interpreter": {
   "hash": "f64ca8427f5c7b208fc8e00c8adfc599cb81e9ff0e312b9ab9d7634eae3e3087"
  },
  "kernelspec": {
   "display_name": "Python 3.9.4 64-bit ('3.9.4': pyenv)",
   "name": "python3"
  },
  "language_info": {
   "name": "python",
   "version": ""
  },
  "orig_nbformat": 4
 },
 "nbformat": 4,
 "nbformat_minor": 2
}