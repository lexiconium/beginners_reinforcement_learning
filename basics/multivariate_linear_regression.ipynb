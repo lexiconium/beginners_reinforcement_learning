{
 "cells": [
  {
   "cell_type": "code",
   "execution_count": 5,
   "metadata": {},
   "outputs": [],
   "source": [
    "import torch\n",
    "from torch import nn, optim\n",
    "import torch.nn.functional as F"
   ]
  },
  {
   "cell_type": "code",
   "execution_count": 6,
   "metadata": {},
   "outputs": [],
   "source": [
    "scores = torch.Tensor([[73,  80,  75],\n",
    "                       [93,  88,  93],\n",
    "                       [89,  91,  80],\n",
    "                       [96,  98,  100],\n",
    "                       [73,  66,  70]])\n",
    "expectations = torch.Tensor([[152],\n",
    "                             [185],\n",
    "                             [180],\n",
    "                             [196],\n",
    "                             [142]])"
   ]
  },
  {
   "cell_type": "markdown",
   "metadata": {},
   "source": [
    "Same as single variate linear regression, but with multiple variables\n",
    "$$ E = W \\times S + b $$\n",
    "Where $E$ and $S$ stand for expectations and scores respectively."
   ]
  },
  {
   "cell_type": "code",
   "execution_count": 7,
   "metadata": {},
   "outputs": [
    {
     "name": "stdout",
     "output_type": "stream",
     "text": [
      "epoch: 10000/50000\tW: [1.135, 0.681, 0.206]\tb: 0.008\tloss: 0.230110\n",
      "epoch: 20000/50000\tW: [1.211, 0.657, 0.153]\tb: 0.002\tloss: 0.112737\n",
      "epoch: 30000/50000\tW: [1.223, 0.652, 0.145]\tb: -0.005\tloss: 0.109319\n",
      "epoch: 40000/50000\tW: [1.225, 0.652, 0.143]\tb: -0.012\tloss: 0.108731\n",
      "epoch: 50000/50000\tW: [1.226, 0.652, 0.143]\tb: -0.019\tloss: 0.108211\n"
     ]
    }
   ],
   "source": [
    "W = torch.zeros(size=(3, 1), requires_grad=True)\n",
    "b = torch.zeros(1, requires_grad=True)\n",
    "optimizer = optim.SGD(params=[W, b], lr=1e-5)\n",
    "\n",
    "n_epochs = 50000\n",
    "for epoch in range(1, n_epochs + 1):\n",
    "    hypothesis = scores.matmul(W) + b\n",
    "    loss = torch.mean((hypothesis - expectations) ** 2)\n",
    "\n",
    "    optimizer.zero_grad()\n",
    "\n",
    "    loss.backward()\n",
    "    optimizer.step()\n",
    "\n",
    "    if epoch % 10000 == 0:\n",
    "        w1, w2, w3 = map(torch.Tensor.item, W.detach().squeeze())\n",
    "        print(f'epoch: {epoch:05d}/{n_epochs}\\tW: [{w1:.3f}, {w2:.3f}, {w3:.3f}]\\tb: {b.item():.3f}\\tloss: {loss.item():.6f}')"
   ]
  },
  {
   "cell_type": "markdown",
   "metadata": {},
   "source": [
    "Also, same can be done by $\\text{PyTorch}$ modules."
   ]
  },
  {
   "cell_type": "code",
   "execution_count": 8,
   "metadata": {},
   "outputs": [
    {
     "name": "stdout",
     "output_type": "stream",
     "text": [
      "epoch: 10000/50000\tW: [1.184, 0.672, 0.166]\tb: -0.087\tloss: 0.129067\n",
      "epoch: 20000/50000\tW: [1.220, 0.654, 0.147]\tb: -0.093\tloss: 0.103577\n",
      "epoch: 30000/50000\tW: [1.226, 0.652, 0.144]\tb: -0.100\tloss: 0.102485\n",
      "epoch: 40000/50000\tW: [1.227, 0.652, 0.143]\tb: -0.107\tloss: 0.101989\n",
      "epoch: 50000/50000\tW: [1.227, 0.652, 0.143]\tb: -0.114\tloss: 0.101508\n"
     ]
    }
   ],
   "source": [
    "model = nn.Linear(in_features=3, out_features=1)\n",
    "optimizer = optim.SGD(params=model.parameters(), lr=1e-5)\n",
    "\n",
    "n_epochs = 50000\n",
    "for epoch in range(1, n_epochs + 1):\n",
    "    loss = F.mse_loss(model(scores), target=expectations)\n",
    "\n",
    "    optimizer.zero_grad()\n",
    "\n",
    "    loss.backward()\n",
    "    optimizer.step()\n",
    "\n",
    "    if epoch % 10000 == 0:\n",
    "        W, b = map(torch.Tensor.detach, model.parameters())\n",
    "        w1, w2, w3 = W.squeeze()\n",
    "        print(f'epoch: {epoch:05d}/{n_epochs}\\tW: [{w1:.3f}, {w2:.3f}, {w3:.3f}]\\tb: {b.item():.3f}\\tloss: {loss.item():.6f}')"
   ]
  },
  {
   "cell_type": "markdown",
   "metadata": {},
   "source": [
    "[Reference](https://wikidocs.net/54841)"
   ]
  }
 ],
 "metadata": {
  "interpreter": {
   "hash": "f64ca8427f5c7b208fc8e00c8adfc599cb81e9ff0e312b9ab9d7634eae3e3087"
  },
  "kernelspec": {
   "display_name": "Python 3.9.4 64-bit ('3.9.4': pyenv)",
   "name": "python3"
  },
  "language_info": {
   "name": "python",
   "version": ""
  },
  "orig_nbformat": 4
 },
 "nbformat": 4,
 "nbformat_minor": 2
}