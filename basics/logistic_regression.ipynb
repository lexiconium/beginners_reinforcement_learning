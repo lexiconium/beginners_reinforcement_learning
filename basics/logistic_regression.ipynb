{
 "cells": [
  {
   "cell_type": "code",
   "execution_count": 1,
   "metadata": {},
   "outputs": [],
   "source": [
    "import torch\n",
    "from torch import nn, optim\n",
    "import torch.nn.functional as F"
   ]
  },
  {
   "cell_type": "code",
   "execution_count": 34,
   "metadata": {},
   "outputs": [],
   "source": [
    "X = torch.Tensor([[1, 2], [2, 3], [3, 1], [4, 3], [5, 3], [6, 2]])\n",
    "Y = torch.Tensor([[0], [0], [0], [1], [1], [1]])"
   ]
  },
  {
   "cell_type": "markdown",
   "metadata": {},
   "source": [
    "For binary classification problems, we could use a sigmoid function:\n",
    "$$ H(x) = sigmoid(wx + b) = \\frac{1}{1 + \\exp^{-(wx + b)}} $$"
   ]
  },
  {
   "cell_type": "code",
   "execution_count": 95,
   "metadata": {},
   "outputs": [
    {
     "data": {
      "image/png": "[encoded data removed]",
      "text/plain": [
       "<Figure size 432x288 with 1 Axes>"
      ]
     },
     "metadata": {
      "needs_background": "light"
     },
     "output_type": "display_data"
    }
   ],
   "source": [
    "import numpy as np\n",
    "import matplotlib.pyplot as plt\n",
    "\n",
    "sigmoid = lambda x: 1 / (1 + np.exp(-x))\n",
    "x = np.arange(start=-5, stop=5, step=0.1)\n",
    "\n",
    "plt.plot(x, sigmoid(2 * x), 'r-', x, sigmoid(x), 'g--', x, sigmoid(0.5 * x), 'b-.')\n",
    "plt.axhline(0.5, -5, 5, color='lightgray', linestyle=':', linewidth='1')\n",
    "plt.axvline(0, 0, 1, color='lightgray', linestyle=':', linewidth='1')\n",
    "\n",
    "plt.title(\"Sigmoid\")\n",
    "plt.show()"
   ]
  },
  {
   "cell_type": "code",
   "execution_count": 31,
   "metadata": {},
   "outputs": [
    {
     "name": "stdout",
     "output_type": "stream",
     "text": [
      "epoch: 0050/1000\taccuracy: 0.8333\tloss: 0.273294\n",
      "epoch: 0100/1000\taccuracy: 1.0000\tloss: 0.135644\n",
      "epoch: 0150/1000\taccuracy: 1.0000\tloss: 0.101239\n",
      "epoch: 0200/1000\taccuracy: 1.0000\tloss: 0.080964\n",
      "epoch: 0250/1000\taccuracy: 1.0000\tloss: 0.067579\n",
      "epoch: 0300/1000\taccuracy: 1.0000\tloss: 0.058062\n",
      "epoch: 0350/1000\taccuracy: 1.0000\tloss: 0.050938\n",
      "epoch: 0400/1000\taccuracy: 1.0000\tloss: 0.045398\n",
      "epoch: 0450/1000\taccuracy: 1.0000\tloss: 0.040962\n",
      "epoch: 0500/1000\taccuracy: 1.0000\tloss: 0.037327\n",
      "epoch: 0550/1000\taccuracy: 1.0000\tloss: 0.034293\n",
      "epoch: 0600/1000\taccuracy: 1.0000\tloss: 0.031720\n",
      "epoch: 0650/1000\taccuracy: 1.0000\tloss: 0.029510\n",
      "epoch: 0700/1000\taccuracy: 1.0000\tloss: 0.027592\n",
      "epoch: 0750/1000\taccuracy: 1.0000\tloss: 0.025909\n",
      "epoch: 0800/1000\taccuracy: 1.0000\tloss: 0.024422\n",
      "epoch: 0850/1000\taccuracy: 1.0000\tloss: 0.023098\n",
      "epoch: 0900/1000\taccuracy: 1.0000\tloss: 0.021911\n",
      "epoch: 0950/1000\taccuracy: 1.0000\tloss: 0.020841\n",
      "epoch: 1000/1000\taccuracy: 1.0000\tloss: 0.019871\n"
     ]
    }
   ],
   "source": [
    "W = torch.zeros((2, 1), requires_grad=True)\n",
    "b = torch.zeros(1, requires_grad=True)\n",
    "optimizer = torch.optim.SGD([W, b], lr=1)\n",
    "\n",
    "n_epochs = 1000\n",
    "for epoch in range(1, n_epochs + 1):\n",
    "    hypothesis = torch.sigmoid(X.matmul(W) + b)\n",
    "    loss = F.binary_cross_entropy(hypothesis, target=Y)\n",
    "\n",
    "    optimizer.zero_grad()\n",
    "\n",
    "    loss.backward()\n",
    "    optimizer.step()\n",
    "\n",
    "    if epoch % 50 == 0:\n",
    "        prediction = hypothesis >= torch.Tensor([.5])\n",
    "        is_correct = prediction.float() == Y\n",
    "        accuracy = is_correct.sum().item() / len(is_correct)\n",
    "        print(f'epoch: {epoch:04d}/{n_epochs}\\taccuracy: {accuracy:.4f}\\tloss: {loss.item():.6f}')"
   ]
  },
  {
   "cell_type": "markdown",
   "metadata": {},
   "source": [
    "Using $\\text{PyTorch}$ modules"
   ]
  },
  {
   "cell_type": "code",
   "execution_count": 38,
   "metadata": {},
   "outputs": [
    {
     "name": "stdout",
     "output_type": "stream",
     "text": [
      "epoch: 0050/1000\taccuracy: 0.8333\tloss: 0.270861\n",
      "epoch: 0100/1000\taccuracy: 1.0000\tloss: 0.135179\n",
      "epoch: 0150/1000\taccuracy: 1.0000\tloss: 0.100983\n",
      "epoch: 0200/1000\taccuracy: 1.0000\tloss: 0.080803\n",
      "epoch: 0250/1000\taccuracy: 1.0000\tloss: 0.067467\n",
      "epoch: 0300/1000\taccuracy: 1.0000\tloss: 0.057981\n",
      "epoch: 0350/1000\taccuracy: 1.0000\tloss: 0.050876\n",
      "epoch: 0400/1000\taccuracy: 1.0000\tloss: 0.045349\n",
      "epoch: 0450/1000\taccuracy: 1.0000\tloss: 0.040922\n",
      "epoch: 0500/1000\taccuracy: 1.0000\tloss: 0.037294\n",
      "epoch: 0550/1000\taccuracy: 1.0000\tloss: 0.034265\n",
      "epoch: 0600/1000\taccuracy: 1.0000\tloss: 0.031696\n",
      "epoch: 0650/1000\taccuracy: 1.0000\tloss: 0.029490\n",
      "epoch: 0700/1000\taccuracy: 1.0000\tloss: 0.027574\n",
      "epoch: 0750/1000\taccuracy: 1.0000\tloss: 0.025894\n",
      "epoch: 0800/1000\taccuracy: 1.0000\tloss: 0.024408\n",
      "epoch: 0850/1000\taccuracy: 1.0000\tloss: 0.023085\n",
      "epoch: 0900/1000\taccuracy: 1.0000\tloss: 0.021899\n",
      "epoch: 0950/1000\taccuracy: 1.0000\tloss: 0.020830\n",
      "epoch: 1000/1000\taccuracy: 1.0000\tloss: 0.019861\n"
     ]
    }
   ],
   "source": [
    "model = nn.Sequential(\n",
    "    nn.Linear(2, 1),\n",
    "    nn.Sigmoid()\n",
    ")\n",
    "optimizer = optim.SGD(params=model.parameters(), lr=1)\n",
    "\n",
    "n_epochs = 1000\n",
    "for epoch in range(1, n_epochs + 1):\n",
    "    loss = F.binary_cross_entropy(model(X), target=Y)\n",
    "\n",
    "    optimizer.zero_grad()\n",
    "\n",
    "    loss.backward()\n",
    "    optimizer.step()\n",
    "\n",
    "    if epoch % 50 == 0:\n",
    "        prediction = model(X) >= torch.Tensor([.5])\n",
    "        is_correct = prediction.float() == Y\n",
    "        accuracy = is_correct.sum().item() / len(is_correct)\n",
    "        print(f'epoch: {epoch:04d}/{n_epochs}\\taccuracy: {accuracy:.4f}\\tloss: {loss.item():.6f}')"
   ]
  },
  {
   "cell_type": "markdown",
   "metadata": {},
   "source": [
    "[Reference](https://wikidocs.net/58686)"
   ]
  }
 ],
 "metadata": {
  "interpreter": {
   "hash": "f64ca8427f5c7b208fc8e00c8adfc599cb81e9ff0e312b9ab9d7634eae3e3087"
  },
  "kernelspec": {
   "display_name": "Python 3.9.4 64-bit ('3.9.4': pyenv)",
   "name": "python3"
  },
  "language_info": {
   "codemirror_mode": {
    "name": "ipython",
    "version": 3
   },
   "file_extension": ".py",
   "mimetype": "text/x-python",
   "name": "python",
   "nbconvert_exporter": "python",
   "pygments_lexer": "ipython3",
   "version": "3.9.4"
  },
  "orig_nbformat": 4
 },
 "nbformat": 4,
 "nbformat_minor": 2
}