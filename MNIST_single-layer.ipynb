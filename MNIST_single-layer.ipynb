{
 "cells": [
  {
   "cell_type": "code",
   "execution_count": 1,
   "metadata": {},
   "outputs": [],
   "source": [
    "import random\n",
    "\n",
    "import torch\n",
    "from torch import nn, optim\n",
    "from torch.utils.data import DataLoader\n",
    "from torchvision import datasets, transforms\n",
    "\n",
    "import numpy as np\n",
    "import matplotlib.pyplot as plt"
   ]
  },
  {
   "cell_type": "code",
   "execution_count": 2,
   "metadata": {},
   "outputs": [],
   "source": [
    "device = torch.device('cuda' if torch.cuda.is_available() else 'cpu')\n",
    "batch_size = 100\n",
    "n_epochs = 15"
   ]
  },
  {
   "cell_type": "code",
   "execution_count": 11,
   "metadata": {},
   "outputs": [],
   "source": [
    "mnist_train = datasets.MNIST(root='MNIST_data/', train=True, transform=transforms.ToTensor(), download=True)\n",
    "mnist_test = datasets.MNIST(root='MNIST_data/', train=False, transform=transforms.ToTensor(), download=True)\n",
    "dloader = DataLoader(dataset=mnist_train, batch_size=batch_size, shuffle=True, drop_last=True)"
   ]
  },
  {
   "cell_type": "code",
   "execution_count": 4,
   "metadata": {},
   "outputs": [
    {
     "name": "stdout",
     "output_type": "stream",
     "text": [
      "epoch: 01/15\tloss: 0.536860526\n",
      "epoch: 02/15\tloss: 0.359691709\n",
      "epoch: 03/15\tloss: 0.331287563\n",
      "epoch: 04/15\tloss: 0.316315144\n",
      "epoch: 05/15\tloss: 0.307168365\n",
      "epoch: 06/15\tloss: 0.300265759\n",
      "epoch: 07/15\tloss: 0.295016557\n",
      "epoch: 08/15\tloss: 0.290533364\n",
      "epoch: 09/15\tloss: 0.287404209\n",
      "epoch: 10/15\tloss: 0.284438968\n",
      "epoch: 11/15\tloss: 0.281961352\n",
      "epoch: 12/15\tloss: 0.279761404\n",
      "epoch: 13/15\tloss: 0.277641773\n",
      "epoch: 14/15\tloss: 0.275888354\n",
      "epoch: 15/15\tloss: 0.274427325\n"
     ]
    }
   ],
   "source": [
    "model = nn.Linear(28 ** 2, 10, bias=True).to(device)\n",
    "loss_func = nn.CrossEntropyLoss().to(device)\n",
    "optimizer = optim.SGD(model.parameters(), lr=1e-1)\n",
    "\n",
    "for epoch in range(1, n_epochs + 1):\n",
    "    loss_sum = 0\n",
    "    n_batches = len(dloader)\n",
    "    for imgs, targets in dloader:\n",
    "        imgs = imgs.view(-1, 28 ** 2).to(device)\n",
    "        targets = targets.to(device)\n",
    "        loss = loss_func(model(imgs), targets)\n",
    "\n",
    "        optimizer.zero_grad()\n",
    "\n",
    "        loss.backward()\n",
    "        optimizer.step()\n",
    "\n",
    "        loss_sum += loss\n",
    "    print(f'epoch: {epoch:02d}/{n_epochs}\\tloss: {loss_sum / n_batches:.9f}')"
   ]
  },
  {
   "cell_type": "code",
   "execution_count": 12,
   "metadata": {},
   "outputs": [
    {
     "name": "stdout",
     "output_type": "stream",
     "text": [
      "accuracy: 88.57%\n"
     ]
    },
    {
     "data": {
      "image/png": "[encoded data removed]",
      "text/plain": [
       "<Figure size 432x288 with 10 Axes>"
      ]
     },
     "metadata": {
      "needs_background": "light"
     },
     "output_type": "display_data"
    }
   ],
   "source": [
    "with torch.no_grad():\n",
    "    imgs = mnist_test.data.view(-1, 28 ** 2).float().to(device)\n",
    "    targets = mnist_test.targets.to(device)\n",
    "    is_correct = torch.argmax(model(imgs), dim=1) == targets\n",
    "    print(f'accuracy: {is_correct.float().mean().item() * 100:.2f}%')\n",
    "\n",
    "    for idx in range(1, 11):\n",
    "        i = random.randint(0, len(mnist_test) - 1)\n",
    "        img = mnist_test.data[i].view(-1, 28 ** 2).float().to(device)\n",
    "        target = mnist_test.targets[i].to(device)\n",
    "        \n",
    "        plt.subplot(2, 5, idx)\n",
    "        plt.title(f'label: {target.item()}\\nexpects: {torch.argmax(model(img), dim=1).item()}')\n",
    "        plt.axis('off')\n",
    "        plt.imshow(mnist_test.data[i], cmap='Greys', interpolation='nearest')"
   ]
  },
  {
   "cell_type": "markdown",
   "metadata": {},
   "source": [
    "[Reference](https://wikidocs.net/60324)"
   ]
  }
 ],
 "metadata": {
  "interpreter": {
   "hash": "f64ca8427f5c7b208fc8e00c8adfc599cb81e9ff0e312b9ab9d7634eae3e3087"
  },
  "kernelspec": {
   "display_name": "Python 3.9.4 64-bit ('3.9.4': pyenv)",
   "name": "python3"
  },
  "language_info": {
   "codemirror_mode": {
    "name": "ipython",
    "version": 3
   },
   "file_extension": ".py",
   "mimetype": "text/x-python",
   "name": "python",
   "nbconvert_exporter": "python",
   "pygments_lexer": "ipython3",
   "version": "3.9.4"
  },
  "orig_nbformat": 4
 },
 "nbformat": 4,
 "nbformat_minor": 2
}